{
  "cells": [
    {
      "cell_type": "markdown",
      "metadata": {
        "id": "view-in-github",
        "colab_type": "text"
      },
      "source": [
        "<a href=\"https://colab.research.google.com/github/krishna21s/Python/blob/Python/Word_Counter_UsingPython.ipynb\" target=\"_parent\"><img src=\"https://colab.research.google.com/assets/colab-badge.svg\" alt=\"Open In Colab\"/></a>"
      ]
    },
    {
      "cell_type": "code",
      "execution_count": 4,
      "metadata": {
        "id": "zwFnJsE6vjf8",
        "colab": {
          "base_uri": "https://localhost:8080/"
        },
        "outputId": "516112f4-03ad-4b9a-a4df-02b253363dab"
      },
      "outputs": [
        {
          "output_type": "stream",
          "name": "stdout",
          "text": [
            "--2024-03-05 16:25:32--  https://www.dropbox.com/scl/fi/7ibydw80e8fh9sukymf8w/sample3.txt\n",
            "Resolving www.dropbox.com (www.dropbox.com)... 162.125.65.18, 2620:100:6021:18::a27d:4112\n",
            "Connecting to www.dropbox.com (www.dropbox.com)|162.125.65.18|:443... connected.\n",
            "HTTP request sent, awaiting response... 200 OK\n",
            "Length: unspecified [text/html]\n",
            "Saving to: ‘sample3.txt’\n",
            "\n",
            "sample3.txt             [  <=>               ]  71.20K   208KB/s    in 0.3s    \n",
            "\n",
            "2024-03-05 16:25:33 (208 KB/s) - ‘sample3.txt’ saved [72906]\n",
            "\n"
          ]
        }
      ],
      "source": [
        "!wget https://www.dropbox.com/scl/fi/7ibydw80e8fh9sukymf8w/sample3.txt"
      ]
    },
    {
      "cell_type": "markdown",
      "source": [],
      "metadata": {
        "id": "Z4IShkUWbuxH"
      }
    },
    {
      "cell_type": "code",
      "source": [
        "f = open(\"/content/sample3.txt\")"
      ],
      "metadata": {
        "id": "_mc_hcKEcDVc"
      },
      "execution_count": 6,
      "outputs": []
    },
    {
      "cell_type": "code",
      "source": [
        "c=[]\n",
        "for x in f:\n",
        "  print(x)\n",
        "  c.append(x.split(' '))"
      ],
      "metadata": {
        "id": "VuOTcLsccnt5"
      },
      "execution_count": null,
      "outputs": []
    },
    {
      "cell_type": "code",
      "source": [
        "d=0\n",
        "for i in range(len(c)):\n",
        "  d+=1\n",
        "print(f\"number of conunted words = {d}\")"
      ],
      "metadata": {
        "colab": {
          "base_uri": "https://localhost:8080/"
        },
        "id": "DFDQ4y_Kgcw6",
        "outputId": "7d6ab54f-16aa-4054-a09f-d2ddd0711cc2"
      },
      "execution_count": 13,
      "outputs": [
        {
          "output_type": "stream",
          "name": "stdout",
          "text": [
            "number of conunted words = 210\n"
          ]
        }
      ]
    }
  ],
  "metadata": {
    "colab": {
      "name": "Welcome To Colaboratory",
      "toc_visible": true,
      "provenance": [],
      "include_colab_link": true
    },
    "kernelspec": {
      "display_name": "Python 3",
      "name": "python3"
    }
  },
  "nbformat": 4,
  "nbformat_minor": 0
}